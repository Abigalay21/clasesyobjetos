{
 "cells": [
  {
   "cell_type": "markdown",
   "id": "0d24f3fa-840d-4cfd-aa4c-74f2dd9d748d",
   "metadata": {},
   "source": [
    "## Ecommerce sobre mascotas diseñado en python por medio de la herencia\n"
   ]
  },
  {
   "cell_type": "code",
   "execution_count": null,
   "id": "b7768cfd-51de-4750-b32f-b841a9b20eed",
   "metadata": {},
   "outputs": [],
   "source": [
    "class producto:\n",
    "    def__init__(self, nombre,precio,stock)\n",
    "print (\"inicializacion de la super clase/clase padre\")\n",
    "    def super_method(self):\n",
    "        print (\"Metodo de la super clase/clase padre\")\n",
    "        \n",
    "class juguete(producto) # Hija que va a heredar\n",
    " sub_attribute = \"Atributo de la subclase /clase hija\"\n",
    "    def __init__(self):\n",
    "        print (\"inicializacion de la subclase/ clase hija\")\n",
    "    def sub_method (self) :\n",
    "        print (\"Metodo de la subclase  /clase hija\") \n",
    "        \n",
    "class subjuguete ( juguete) # Nietra que va a heredar \n",
    " sub_sub_attribute = (\"Atributo de la sub clase/clase nieta\")\n",
    " def __init__(self): \n",
    "    print (\"inicializacion de la subclase/clase nieta\") \n",
    " def sub_sub_method (self):\n",
    "     print (\"Metodo de la subclase /clase nieta\") \n",
    " def sub_sub_sub_method (self) :\n",
    "     print (\"inicalizacion de la subclase_subclase / clase nieta\")"
   ]
  },
  {
   "cell_type": "code",
   "execution_count": 2,
   "id": "609efa55-75cf-466b-87de-84ebb588c9e0",
   "metadata": {},
   "outputs": [
    {
     "ename": "NameError",
     "evalue": "name 'subjuguete' is not defined",
     "output_type": "error",
     "traceback": [
      "\u001b[1;31m---------------------------------------------------------------------------\u001b[0m",
      "\u001b[1;31mNameError\u001b[0m                                 Traceback (most recent call last)",
      "Cell \u001b[1;32mIn[2], line 1\u001b[0m\n\u001b[1;32m----> 1\u001b[0m sub_sub_producto \u001b[38;5;241m=\u001b[39m \u001b[43msubjuguete\u001b[49m ()\n",
      "\u001b[1;31mNameError\u001b[0m: name 'subjuguete' is not defined"
     ]
    }
   ],
   "source": [
    "sub_sub_producto = subjuguete ()\n"
   ]
  },
  {
   "cell_type": "code",
   "execution_count": null,
   "id": "229dd24d-e233-48c1-842a-617f48333960",
   "metadata": {},
   "outputs": [],
   "source": [
    "sub_sub_producto. super_method ()\n",
    "sub_sub_producto.sub_method ()\n",
    "sub_sub_producto.sub_sub_method ()\n",
    "print (sub_sub_producto.super_attribute)\n",
    "print (sub_sub_producto.sub_attribute)\n",
    "print (sub_sub_producto.sub_sub_attribute)"
   ]
  },
  {
   "cell_type": "code",
   "execution_count": null,
   "id": "dab747bf-54bb-4797-9b38-79d278a9b917",
   "metadata": {},
   "outputs": [],
   "source": [
    "class Producto:\n",
    "    def __init__(self, nombre, precio, stock):\n",
    "        self.nombre = nombre\n",
    "        self.precio = precio\n",
    "        self.stock = stock\n",
    "\n",
    "    def mostrar_informacion(self):\n",
    "        print(f\"Nombre: {self.nombre}, Precio: ${self.precio}, Stock: {self.stock}\")\n",
    "\n",
    "    def aplicar_descuento(self, porcentaje):\n",
    "        self.precio *= (1 - porcentaje / 100)\n"
   ]
  },
  {
   "cell_type": "code",
   "execution_count": null,
   "id": "a8aaa771-f9e1-4f4e-ace9-5d425b19f784",
   "metadata": {},
   "outputs": [],
   "source": [
    "class Juguete(Producto):\n",
    "    def __init__(self, nombre, precio, stock, garantia):\n",
    "        super().__init__(nombre, precio, stock)\n",
    "        self.garantia = garantia\n",
    "\n",
    "    def mostrar_informacion(self):\n",
    "        super().mostrar_informacion()\n",
    "        print(f\"Garantía: {self.garantia} años\")\n",
    "\n",
    "    def extender_garantia(self, años):\n",
    "        self.garantia += años\n"
   ]
  },
  {
   "cell_type": "code",
   "execution_count": null,
   "id": "46bc8400-55b5-4563-ae0b-150ba47dcaab",
   "metadata": {},
   "outputs": [],
   "source": [
    "class Ropa(Producto):\n",
    "    def __init__(self, nombre, precio, stock, talla):\n",
    "        super().__init__(nombre, precio, stock)\n",
    "        self.talla = talla\n",
    "\n",
    "    def mostrar_informacion(self):\n",
    "        super().mostrar_informacion()\n",
    "        print(f\"Talla: {self.talla}\")\n",
    "\n",
    "    def cambiar_talla(self, nueva_talla):\n",
    "        self.talla = nueva_talla\n"
   ]
  },
  {
   "cell_type": "markdown",
   "id": "334fbae0-43d2-45d5-af4f-55d7564d83bf",
   "metadata": {},
   "source": [
    "## Ejemplo de uso "
   ]
  },
  {
   "cell_type": "code",
   "execution_count": 1,
   "id": "ac6173b1-8791-4591-8a37-d8f840fc2b8d",
   "metadata": {},
   "outputs": [
    {
     "ename": "NameError",
     "evalue": "name 'Alimento' is not defined",
     "output_type": "error",
     "traceback": [
      "\u001b[1;31m---------------------------------------------------------------------------\u001b[0m",
      "\u001b[1;31mNameError\u001b[0m                                 Traceback (most recent call last)",
      "Cell \u001b[1;32mIn[1], line 2\u001b[0m\n\u001b[0;32m      1\u001b[0m \u001b[38;5;66;03m# Crear instancias de Alimento y Ropa\u001b[39;00m\n\u001b[1;32m----> 2\u001b[0m croqueta \u001b[38;5;241m=\u001b[39m \u001b[43mAlimento\u001b[49m(\u001b[38;5;124m\"\u001b[39m\u001b[38;5;124mGanador\u001b[39m\u001b[38;5;124m\"\u001b[39m, \u001b[38;5;241m850\u001b[39m, \u001b[38;5;241m20\u001b[39m, \u001b[38;5;241m2\u001b[39m)\n\u001b[0;32m      3\u001b[0m deportiva \u001b[38;5;241m=\u001b[39m Ropa(\u001b[38;5;124m\"\u001b[39m\u001b[38;5;124mfalda\u001b[39m\u001b[38;5;124m\"\u001b[39m, \u001b[38;5;241m8\u001b[39m, \u001b[38;5;241m15\u001b[39m, \u001b[38;5;124m\"\u001b[39m\u001b[38;5;124mM\u001b[39m\u001b[38;5;124m\"\u001b[39m)\n\u001b[0;32m      5\u001b[0m \u001b[38;5;66;03m# Mostrar información de los productos\u001b[39;00m\n",
      "\u001b[1;31mNameError\u001b[0m: name 'Alimento' is not defined"
     ]
    }
   ],
   "source": [
    "# Crear instancias de Alimento y Ropa\n",
    "croqueta = Alimento(\"Ganador\", 850, 20, 2)\n",
    "deporte = Juguete(\"pelota\", 8, 15, \"G\")\n",
    "\n",
    "# Mostrar información de los productos\n",
    "croqueta.mostrar_informacion()\n",
    "deporte.mostrar_informacion()\n",
    "\n",
    "# Aplicar descuento y extender garantía\n",
    "croqueta.aplicar_descuento(10)\n",
    "croqueta.extender_garantia(1)\n",
    "\n",
    "# Cambiar talla de la ropa\n",
    "deporte.cambiar_talla(\"L\")\n",
    "\n",
    "# Mostrar información actualizada\n",
    "print(\"\\nInformación actualizada:\")\n",
    "croqueta.mostrar_informacion()\n",
    "deporte.mostrar_informacion()\n"
   ]
  },
  {
   "cell_type": "code",
   "execution_count": null,
   "id": "ba41ddba-b7b9-4373-8d55-51bff5c4f66a",
   "metadata": {},
   "outputs": [],
   "source": []
  },
  {
   "cell_type": "code",
   "execution_count": null,
   "id": "de902c0e-5f03-44d5-b709-6fbfabe0bce7",
   "metadata": {},
   "outputs": [],
   "source": []
  },
  {
   "cell_type": "code",
   "execution_count": null,
   "id": "a0cf1ac5-75de-44df-b735-d917a4e9f4f2",
   "metadata": {},
   "outputs": [],
   "source": []
  },
  {
   "cell_type": "code",
   "execution_count": null,
   "id": "d5e5ae93-03c1-4e67-a293-9ec01d241497",
   "metadata": {},
   "outputs": [],
   "source": []
  },
  {
   "cell_type": "code",
   "execution_count": null,
   "id": "c63099e6-9cda-4fbc-85f6-8c61593074b3",
   "metadata": {},
   "outputs": [],
   "source": []
  },
  {
   "cell_type": "code",
   "execution_count": null,
   "id": "a144ca98-7bdf-4359-8eed-a4d574dd175b",
   "metadata": {},
   "outputs": [],
   "source": []
  }
 ],
 "metadata": {
  "kernelspec": {
   "display_name": "Python 3 (ipykernel)",
   "language": "python",
   "name": "python3"
  },
  "language_info": {
   "codemirror_mode": {
    "name": "ipython",
    "version": 3
   },
   "file_extension": ".py",
   "mimetype": "text/x-python",
   "name": "python",
   "nbconvert_exporter": "python",
   "pygments_lexer": "ipython3",
   "version": "3.12.5"
  }
 },
 "nbformat": 4,
 "nbformat_minor": 5
}
